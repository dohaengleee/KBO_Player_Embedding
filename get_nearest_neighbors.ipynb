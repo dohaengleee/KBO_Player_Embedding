{
 "cells": [
  {
   "cell_type": "code",
   "execution_count": 1,
   "metadata": {},
   "outputs": [],
   "source": [
    "import pickle as pkl\n",
    "import pandas as pd\n",
    "import numpy as np"
   ]
  },
  {
   "cell_type": "code",
   "execution_count": 2,
   "metadata": {},
   "outputs": [],
   "source": [
    "with open('./pkl/hitter_info.pkl', 'rb') as f:\n",
    "    hitter_info = pkl.load(f)\n",
    "\n",
    "with open('./pkl/pitcher_info.pkl', 'rb') as f:\n",
    "    pitcher_info = pkl.load(f)\n",
    "\n",
    "with open('./model/weight.pkl', 'rb') as f:\n",
    "    weight = pkl.load(f)"
   ]
  },
  {
   "cell_type": "code",
   "execution_count": 3,
   "metadata": {},
   "outputs": [],
   "source": [
    "batter_vec = weight['hitter_layer.0.weight'].cpu()\n",
    "pitcher_vec = weight['pitcher_layer.0.weight'].cpu()\n",
    "player_vecs = {\"batter\": batter_vec, \"pitcher\": pitcher_vec}"
   ]
  },
  {
   "cell_type": "code",
   "execution_count": 4,
   "metadata": {},
   "outputs": [],
   "source": [
    "VEC_SIZE = batter_vec[0].shape[0]"
   ]
  },
  {
   "cell_type": "code",
   "execution_count": 5,
   "metadata": {},
   "outputs": [],
   "source": [
    "latent_vecs = {'batter':np.array(batter_vec), 'pitcher':np.array(pitcher_vec)}"
   ]
  },
  {
   "cell_type": "code",
   "execution_count": 6,
   "metadata": {},
   "outputs": [],
   "source": [
    "player_names = {'batter': hitter_info.HITNAME.values.tolist(), 'pitcher':pitcher_info.PITNAME.values.tolist()}"
   ]
  },
  {
   "cell_type": "code",
   "execution_count": 7,
   "metadata": {
    "scrolled": true
   },
   "outputs": [],
   "source": [
    "bat_player_df = pd.DataFrame(batter_vec.tolist(), columns=[\"latent{0}\".format(i) for i in range(VEC_SIZE)])\n",
    "bat_player_df['player_id'] = hitter_info.HITIDX.values.tolist()\n",
    "bat_player_df['name'] = hitter_info.HITNAME.values.tolist()"
   ]
  },
  {
   "cell_type": "code",
   "execution_count": 8,
   "metadata": {},
   "outputs": [],
   "source": [
    "pit_player_df = pd.DataFrame(pitcher_vec.tolist(), columns=[\"latent{0}\".format(i) for i in range(VEC_SIZE)])\n",
    "pit_player_df['player_id'] = pitcher_info.PITIDX.values.tolist()\n",
    "pit_player_df['name'] = pitcher_info.PITNAME.values.tolist()"
   ]
  },
  {
   "cell_type": "code",
   "execution_count": 9,
   "metadata": {},
   "outputs": [],
   "source": [
    "def get_nearest_neighbors(name, data, latent_vecs, player_names, k = 5):\n",
    "    \"\"\"Print the k nearest neighbors (in the latent space) of a given player.\n",
    "    \n",
    "    :param name: \n",
    "    :param data: \n",
    "    :param latent_vecs: \n",
    "    :param player_names: \n",
    "    :param k: \n",
    "    :return: \n",
    "    \"\"\"\n",
    "    player_index = np.where(data[\"name\"] == name)[0]\n",
    "    player_latent = latent_vecs[player_index]\n",
    "    distances = 1 - np.dot(latent_vecs, player_latent.T).flatten() / (np.linalg.norm(latent_vecs, axis = 1) * np.linalg.norm(player_latent))\n",
    "    distances_and_ids = list(zip(player_names, distances))\n",
    "    distances_and_ids.sort(key = lambda x: x[1])\n",
    "    \n",
    "    return distances_and_ids[1:1 + k]"
   ]
  },
  {
   "cell_type": "code",
   "execution_count": 10,
   "metadata": {},
   "outputs": [
    {
     "name": "stdout",
     "output_type": "stream",
     "text": [
      "박해민\n",
      "[('장민석', 0.1094017), ('장일현', 0.16128415), ('이상대', 0.1707263), ('이종욱', 0.1723364), ('이희성', 0.17276889)]\n",
      "\n",
      "================================================================================================\n",
      "선동열\n",
      "[('임창용', 0.08846742), ('조웅천', 0.15325212), ('이대진', 0.17722994), ('윤석민', 0.18363696), ('박준수', 0.1958093)]\n",
      "\n",
      "================================================================================================\n",
      "이승엽\n",
      "[('테임즈', 0.079945385), ('김재환', 0.08488554), ('박정권', 0.092071), ('가르시아', 0.09557867), ('클락', 0.10115534)]\n",
      "\n",
      "이종범\n",
      "[('홍세완', 0.12456423), ('이광은', 0.18308526), ('강기웅', 0.19776559), ('유한준', 0.1986863), ('이택근', 0.21009177)]\n",
      "\n",
      "================================================================================================\n",
      "양현종\n",
      "[('김광현', 0.11396772), ('차우찬', 0.120057106), ('장현식', 0.14668423), ('박정진         ', 0.15260518), ('이상열', 0.16589892)]\n",
      "\n",
      "================================================================================================\n",
      "이용규\n",
      "[('정수근', 0.07207322), ('박흥식', 0.14335763), ('전준호', 0.1574642), ('박재벌', 0.18299693), ('김실', 0.2125771)]\n",
      "\n"
     ]
    }
   ],
   "source": [
    "for batter in [\"박해민\"]:\n",
    "    print(batter)\n",
    "    print(get_nearest_neighbors(batter, bat_player_df, latent_vecs[\"batter\"], player_names[\"batter\"]))\n",
    "    print()\n",
    "    \n",
    "print(\"================================================================================================\")\n",
    "\n",
    "for pitcher in [\"선동열\"]:\n",
    "    print(pitcher)\n",
    "    print(get_nearest_neighbors(pitcher, pit_player_df, latent_vecs[\"pitcher\"], player_names[\"pitcher\"]))\n",
    "    print()\n",
    "\n",
    "print(\"================================================================================================\")\n",
    "\n",
    "for batter in [\"이승엽\"]:\n",
    "    print(batter)\n",
    "    print(get_nearest_neighbors(batter, bat_player_df, latent_vecs[\"batter\"], player_names[\"batter\"]))\n",
    "    print()\n",
    "    \n",
    "for batter in [\"이종범\"]:\n",
    "    print(batter)\n",
    "    print(get_nearest_neighbors(batter, bat_player_df, latent_vecs[\"batter\"], player_names[\"batter\"]))\n",
    "    print()\n",
    "    \n",
    "print(\"================================================================================================\")\n",
    "\n",
    "for pitcher in [\"양현종\"]:\n",
    "    print(pitcher)\n",
    "    print(get_nearest_neighbors(pitcher, pit_player_df, latent_vecs[\"pitcher\"], player_names[\"pitcher\"]))\n",
    "    print()\n",
    "    \n",
    "print(\"================================================================================================\")\n",
    "\n",
    "for batter in [\"이용규\"]:\n",
    "    print(batter)\n",
    "    print(get_nearest_neighbors(batter, bat_player_df, latent_vecs[\"batter\"], player_names[\"batter\"]))\n",
    "    print()"
   ]
  },
  {
   "cell_type": "code",
   "execution_count": null,
   "metadata": {},
   "outputs": [],
   "source": []
  }
 ],
 "metadata": {
  "kernelspec": {
   "display_name": "Pytorch",
   "language": "python",
   "name": "pytorch"
  },
  "language_info": {
   "codemirror_mode": {
    "name": "ipython",
    "version": 3
   },
   "file_extension": ".py",
   "mimetype": "text/x-python",
   "name": "python",
   "nbconvert_exporter": "python",
   "pygments_lexer": "ipython3",
   "version": "3.6.7"
  }
 },
 "nbformat": 4,
 "nbformat_minor": 2
}
