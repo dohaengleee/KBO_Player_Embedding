{
 "cells": [
  {
   "cell_type": "code",
   "execution_count": 1,
   "metadata": {},
   "outputs": [],
   "source": [
    "import matplotlib.pyplot as plt\n",
    "import matplotlib.font_manager as fm\n",
    "import matplotlib as mpl\n",
    "import seaborn as sns\n",
    "%matplotlib inline\n",
    "import pandas as pd\n",
    "import pickle as pkl\n",
    "from sklearn import decomposition\n",
    "from config import config_dict as c\n",
    "import pymysql\n",
    "import pymysql.cursors\n",
    "\n",
    "path = '/usr/share/fonts/truetype/nanum/NanumGothic.ttf'\n",
    "fontprop = fm.FontProperties(fname=path, size=12)\n",
    "\n",
    "import warnings\n",
    "warnings.filterwarnings('ignore')"
   ]
  },
  {
   "cell_type": "code",
   "execution_count": 2,
   "metadata": {},
   "outputs": [],
   "source": [
    "def call_db(sql):\n",
    "\n",
    "    connecting = pymysql.connect(host=c['host'], port=c['port'],\n",
    "                                 user=c['user'], passwd=c['passwd'],\n",
    "                                 db=c['db'], charset='utf8')\n",
    "    curs = connecting.cursor(pymysql.cursors.DictCursor)\n",
    "    curs.execute(sql)\n",
    "    rows = curs.fetchall()\n",
    "    df = pd.DataFrame(data=rows)\n",
    "\n",
    "    return df"
   ]
  },
  {
   "cell_type": "code",
   "execution_count": 3,
   "metadata": {},
   "outputs": [],
   "source": [
    "person = call_db('select GYEAR, PCODE, NAME, TEAM, POS, POSITION, HITTYPE, MONEY from person where GYEAR < 2019')"
   ]
  },
  {
   "cell_type": "code",
   "execution_count": 4,
   "metadata": {},
   "outputs": [],
   "source": [
    "with open('./model/weight.pkl', 'rb') as f:\n",
    "    weight = pkl.load(f)\n",
    "    \n",
    "with open('./pkl/hitter_info.pkl', 'rb') as f:\n",
    "    hitter_info = pkl.load(f)\n",
    "\n",
    "with open('./pkl/pitcher_info.pkl', 'rb') as f:\n",
    "    pitcher_info = pkl.load(f)"
   ]
  },
  {
   "cell_type": "code",
   "execution_count": 5,
   "metadata": {},
   "outputs": [],
   "source": [
    "batter_vec = weight['hitter_layer.0.weight'].cpu()\n",
    "pitcher_vec = weight['pitcher_layer.0.weight'].cpu()\n",
    "player_vecs = {\"batter\": batter_vec, \"pitcher\": pitcher_vec}"
   ]
  },
  {
   "cell_type": "code",
   "execution_count": 6,
   "metadata": {},
   "outputs": [],
   "source": [
    "type_dict = {'우투우타':'R', '우투좌타':\"L\", \"좌투좌타\":\"L\", \"우언우타\":\"R\", \"좌투우타\":\"R\",\n",
    "            \"우투양타\":\"B\", \"우언좌타\":\"L\", \"우언양타\":\"B\"}"
   ]
  },
  {
   "cell_type": "code",
   "execution_count": 7,
   "metadata": {},
   "outputs": [
    {
     "name": "stdout",
     "output_type": "stream",
     "text": [
      "[0.27444816 0.21840864 0.13223446 0.08757556 0.07161641 0.06675298\n",
      " 0.05583808 0.04850953 0.04461617]\n",
      "[0.26063393 0.16280812 0.13816327 0.1125875  0.09052697 0.0779411\n",
      " 0.06046233 0.05328449 0.04359229]\n"
     ]
    }
   ],
   "source": [
    "from sklearn import decomposition\n",
    "\n",
    "pca = decomposition.PCA()\n",
    "pca.fit(batter_vec.tolist())\n",
    "print(pca.explained_variance_ratio_)\n",
    "projected_batters = pca.transform(batter_vec.tolist())\n",
    "\n",
    "pca = decomposition.PCA()\n",
    "pca.fit(pitcher_vec.tolist())\n",
    "print(pca.explained_variance_ratio_)\n",
    "projected_pitchers = pca.transform(pitcher_vec.tolist())"
   ]
  },
  {
   "cell_type": "code",
   "execution_count": 8,
   "metadata": {},
   "outputs": [],
   "source": [
    "hittype_ls = []\n",
    "for i in hitter_info.HITPCODE:\n",
    "    hittype_ls.append(person[person.PCODE == i].HITTYPE.unique()[0])\n",
    "hitter_info['HITTYPE'] = hittype_ls\n",
    "\n",
    "hittype_ls2 = []\n",
    "for i in pitcher_info.PITPCODE:\n",
    "    hittype_ls2.append(person[person.PCODE == i].HITTYPE.unique()[0])\n",
    "pitcher_info['HITTYPE'] = hittype_ls2"
   ]
  },
  {
   "cell_type": "code",
   "execution_count": 9,
   "metadata": {},
   "outputs": [],
   "source": [
    "categories = {'batter': hitter_info.HITNAME.values.tolist(), 'pitcher':pitcher_info.PITNAME.values.tolist()}"
   ]
  },
  {
   "cell_type": "code",
   "execution_count": 10,
   "metadata": {},
   "outputs": [],
   "source": [
    "batter_colors = {\"player_id\": [], \"hand\": []}\n",
    "for i in range(len(hitter_info)):\n",
    "    batter_id = categories[\"batter\"][i]\n",
    "    batting_hand = hitter_info.HITTYPE[i]\n",
    "    salary = hitter_info.SALARY[i]\n",
    "    batter_colors[\"player_id\"].append(batter_id)\n",
    "    batter_colors[\"hand\"].append(batting_hand)\n",
    "\n",
    "df = pd.DataFrame(batter_colors)"
   ]
  },
  {
   "cell_type": "code",
   "execution_count": 11,
   "metadata": {},
   "outputs": [
    {
     "data": {
      "text/plain": [
       "우투우타    329\n",
       "좌투좌타    106\n",
       "우투좌타     45\n",
       "우투양타      8\n",
       "Name: hand, dtype: int64"
      ]
     },
     "execution_count": 11,
     "metadata": {},
     "output_type": "execute_result"
    }
   ],
   "source": [
    "df.hand.value_counts()"
   ]
  },
  {
   "cell_type": "code",
   "execution_count": 12,
   "metadata": {},
   "outputs": [],
   "source": [
    "for i in range(3):\n",
    "    df[\"pc{0}\".format(i + 1)] = projected_batters[:, i]"
   ]
  },
  {
   "cell_type": "code",
   "execution_count": 13,
   "metadata": {
    "scrolled": true
   },
   "outputs": [],
   "source": [
    "tmp = []\n",
    "for i in range(len(df)):\n",
    "    tmp.append(type_dict[df.hand[i]])"
   ]
  },
  {
   "cell_type": "code",
   "execution_count": 14,
   "metadata": {},
   "outputs": [],
   "source": [
    "df['HITTYPE_ENG'] = tmp"
   ]
  },
  {
   "cell_type": "code",
   "execution_count": 15,
   "metadata": {},
   "outputs": [
    {
     "data": {
      "text/plain": [
       "R    329\n",
       "L    151\n",
       "B      8\n",
       "Name: HITTYPE_ENG, dtype: int64"
      ]
     },
     "execution_count": 15,
     "metadata": {},
     "output_type": "execute_result"
    }
   ],
   "source": [
    "df.HITTYPE_ENG.value_counts()"
   ]
  },
  {
   "cell_type": "code",
   "execution_count": 16,
   "metadata": {},
   "outputs": [
    {
     "data": {
      "image/png": "[encoded data removed]",
      "text/plain": [
       "<Figure size 432x288 with 1 Axes>"
      ]
     },
     "metadata": {
      "needs_background": "light"
     },
     "output_type": "display_data"
    }
   ],
   "source": [
    "cmap = sns.cubehelix_palette(as_cmap = True)\n",
    "cs = sns.color_palette(\"hls\", 8)\n",
    "batting_hand_color = {\"R\": cs[1], \"L\": cs[0], \"B\": cs[2]}\n",
    "legend_data = []\n",
    "legend_names = []\n",
    "for (hand, color) in batting_hand_color.items():\n",
    "    batter_hands = df[df.HITTYPE_ENG == hand]\n",
    "    legend_data.append(plt.scatter(batter_hands[\"pc1\"], batter_hands[\"pc2\"], s = 50, color = color))\n",
    "    legend_names.append(hand)\n",
    "\n",
    "plt.title(\"Batting Hand\", fontproperties=fontprop)\n",
    "plt.legend(legend_data, legend_names)\n",
    "plt.show()"
   ]
  },
  {
   "cell_type": "code",
   "execution_count": null,
   "metadata": {},
   "outputs": [],
   "source": []
  }
 ],
 "metadata": {
  "kernelspec": {
   "display_name": "Pytorch",
   "language": "python",
   "name": "pytorch"
  },
  "language_info": {
   "codemirror_mode": {
    "name": "ipython",
    "version": 3
   },
   "file_extension": ".py",
   "mimetype": "text/x-python",
   "name": "python",
   "nbconvert_exporter": "python",
   "pygments_lexer": "ipython3",
   "version": "3.6.7"
  }
 },
 "nbformat": 4,
 "nbformat_minor": 2
}
