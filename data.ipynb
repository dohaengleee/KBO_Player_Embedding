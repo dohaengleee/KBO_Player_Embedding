{
 "cells": [
  {
   "cell_type": "code",
   "execution_count": 1,
   "metadata": {},
   "outputs": [],
   "source": [
    "import numpy as np\n",
    "import pandas as pd\n",
    "import pymysql\n",
    "import pymysql.cursors\n",
    "from collections import Counter\n",
    "import pickle as pkl\n",
    "from config import config_dict as c\n",
    "import warnings\n",
    "warnings.filterwarnings('ignore')"
   ]
  },
  {
   "cell_type": "code",
   "execution_count": 2,
   "metadata": {},
   "outputs": [],
   "source": [
    "def call_db(sql):\n",
    "\n",
    "    connecting = pymysql.connect(host=c['host'], port=c['port'],\n",
    "                                 user=c['user'], passwd=c['passwd'],\n",
    "                                 db=c['db'], charset='utf8')\n",
    "    curs = connecting.cursor(pymysql.cursors.DictCursor)\n",
    "    curs.execute(sql)\n",
    "    rows = curs.fetchall()\n",
    "    df = pd.DataFrame(data=rows)\n",
    "\n",
    "    return df"
   ]
  },
  {
   "cell_type": "code",
   "execution_count": 3,
   "metadata": {},
   "outputs": [],
   "source": [
    "gamecontapp = call_db('select GMKEY, HOW, FIELD, HITNAME, HITTER,\\\n",
    "                      PITNAME, PITCHER from gamecontapp where GYEAR < 2019')"
   ]
  },
  {
   "cell_type": "code",
   "execution_count": 4,
   "metadata": {},
   "outputs": [],
   "source": [
    "gamecontapp_copy = gamecontapp.copy()"
   ]
  },
  {
   "cell_type": "code",
   "execution_count": 5,
   "metadata": {},
   "outputs": [],
   "source": [
    "counts = {'batter': {}, 'pitcher':{}}\n",
    "counts['batter'] = dict(gamecontapp_copy.HITTER.value_counts())\n",
    "counts['pitcher'] = dict(gamecontapp_copy.PITCHER.value_counts())"
   ]
  },
  {
   "cell_type": "markdown",
   "metadata": {},
   "source": [
    "# delete hitter & pitcher by cutoff index"
   ]
  },
  {
   "cell_type": "code",
   "execution_count": 6,
   "metadata": {},
   "outputs": [
    {
     "name": "stdout",
     "output_type": "stream",
     "text": [
      "1651 488 0.29557843731072075\n",
      "1282 528 0.4118564742589704\n"
     ]
    }
   ],
   "source": [
    "cutoffs = {}\n",
    "percentile_cutoff = 0.9\n",
    "for player_type in ['batter', 'pitcher']:\n",
    "    counts_list = list(counts[player_type].values())\n",
    "    counts_list.sort(reverse = True)\n",
    "    total_at_bats = sum(counts_list)\n",
    "    \n",
    "    cumulative_percentage = [sum(counts_list[:i + 1]) / total_at_bats for i in range(len(counts_list))]\n",
    "    cutoff_index = sum([1 for total in cumulative_percentage if total <= percentile_cutoff])\n",
    "    \n",
    "    cutoff = counts_list[cutoff_index]\n",
    "    cutoffs[player_type] = cutoff\n",
    "    print(len(counts[player_type]), cutoff_index, cutoff_index / len(counts[player_type]))"
   ]
  },
  {
   "cell_type": "code",
   "execution_count": 7,
   "metadata": {},
   "outputs": [
    {
     "data": {
      "text/plain": [
       "{'batter': 938, 'pitcher': 891}"
      ]
     },
     "execution_count": 7,
     "metadata": {},
     "output_type": "execute_result"
    }
   ],
   "source": [
    "cutoffs"
   ]
  },
  {
   "cell_type": "code",
   "execution_count": 8,
   "metadata": {},
   "outputs": [],
   "source": [
    "batter_name = list(gamecontapp_copy.HITNAME.value_counts()[gamecontapp_copy.HITNAME.value_counts() > cutoffs['batter']].index)\n",
    "pitcher_name = list(gamecontapp_copy.PITNAME.value_counts()[gamecontapp_copy.PITNAME.value_counts() > cutoffs['pitcher']].index)\n",
    "batter_pcode = list(gamecontapp_copy.HITTER.value_counts()[gamecontapp_copy.HITTER.value_counts() > cutoffs['batter']].index)\n",
    "pitcher_pcode = list(gamecontapp_copy.PITCHER.value_counts()[gamecontapp_copy.PITCHER.value_counts() > cutoffs['pitcher']].index)"
   ]
  },
  {
   "cell_type": "code",
   "execution_count": 9,
   "metadata": {},
   "outputs": [
    {
     "data": {
      "text/plain": [
       "(480, 488, 538, 528)"
      ]
     },
     "execution_count": 9,
     "metadata": {},
     "output_type": "execute_result"
    }
   ],
   "source": [
    "len(batter_name), len(batter_pcode), len(pitcher_name), len(pitcher_pcode)"
   ]
  },
  {
   "cell_type": "code",
   "execution_count": 10,
   "metadata": {},
   "outputs": [],
   "source": [
    "bat_idx = []\n",
    "for i in range(len(gamecontapp_copy)):\n",
    "    if gamecontapp_copy.HITTER[i] in batter_pcode:\n",
    "        bat_idx.append(i)\n",
    "        \n",
    "gamecontapp_copy = gamecontapp_copy.loc[bat_idx].reset_index(drop=True)"
   ]
  },
  {
   "cell_type": "code",
   "execution_count": 11,
   "metadata": {},
   "outputs": [],
   "source": [
    "pit_idx = []\n",
    "for j in range(len(gamecontapp_copy)):\n",
    "    if gamecontapp_copy.PITCHER[j] in pitcher_pcode:\n",
    "        pit_idx.append(j)\n",
    "        \n",
    "gamecontapp_copy = gamecontapp_copy.loc[pit_idx].reset_index(drop=True)"
   ]
  },
  {
   "cell_type": "code",
   "execution_count": 12,
   "metadata": {},
   "outputs": [
    {
     "data": {
      "text/plain": [
       "(1610499, 1786919)"
      ]
     },
     "execution_count": 12,
     "metadata": {},
     "output_type": "execute_result"
    }
   ],
   "source": [
    "len(pit_idx), len(bat_idx)"
   ]
  },
  {
   "cell_type": "code",
   "execution_count": 13,
   "metadata": {},
   "outputs": [
    {
     "data": {
      "text/plain": [
       "(1610499, 7)"
      ]
     },
     "execution_count": 13,
     "metadata": {},
     "output_type": "execute_result"
    }
   ],
   "source": [
    "gamecontapp_copy.shape # cutoff 0.9 / final raw data"
   ]
  },
  {
   "cell_type": "markdown",
   "metadata": {},
   "source": [
    "# features"
   ]
  },
  {
   "cell_type": "code",
   "execution_count": 14,
   "metadata": {},
   "outputs": [],
   "source": [
    "train = pd.DataFrame(columns=['batter', 'outcome', 'pitcher'])"
   ]
  },
  {
   "cell_type": "code",
   "execution_count": 15,
   "metadata": {},
   "outputs": [],
   "source": [
    "gamecontapp_copy.HOW.replace({'BN':'OUT', 'GR':'OUT', 'FL':'OUT'}, inplace=True)"
   ]
  },
  {
   "cell_type": "code",
   "execution_count": 16,
   "metadata": {},
   "outputs": [],
   "source": [
    "HOW_list = ['BB', 'H1', 'H2', 'H3', 'HR', 'HP', 'IB', 'KK', 'BK', 'OUT']\n",
    "OUT_HOW_list = ['BN', 'GR', 'FL']\n",
    "HOW_dir_list = ['H1', 'H2', 'H3', 'HR']"
   ]
  },
  {
   "cell_type": "markdown",
   "metadata": {},
   "source": [
    "# drop not how_list"
   ]
  },
  {
   "cell_type": "code",
   "execution_count": 17,
   "metadata": {},
   "outputs": [],
   "source": [
    "no_how_ls = []\n",
    "for i in range(len(gamecontapp_copy)):\n",
    "    if gamecontapp_copy.HOW[i] not in HOW_list:\n",
    "        no_how_ls.append(i)"
   ]
  },
  {
   "cell_type": "code",
   "execution_count": 18,
   "metadata": {},
   "outputs": [],
   "source": [
    "gamecontapp_copy = gamecontapp_copy.drop(index=no_how_ls).reset_index(drop=True) # drop not HOW_list"
   ]
  },
  {
   "cell_type": "code",
   "execution_count": 19,
   "metadata": {},
   "outputs": [
    {
     "data": {
      "text/plain": [
       "(1025441, 7)"
      ]
     },
     "execution_count": 19,
     "metadata": {},
     "output_type": "execute_result"
    }
   ],
   "source": [
    "gamecontapp_copy.shape"
   ]
  },
  {
   "cell_type": "markdown",
   "metadata": {},
   "source": [
    "# make outcomes"
   ]
  },
  {
   "cell_type": "markdown",
   "metadata": {},
   "source": [
    " - N    주자 생존 (보살x 자살x)\n",
    " - A    1루 베이스 아웃\n",
    " - B    2루 베이스 아웃\n",
    " - C    3루 베이스 아웃\n",
    " - D    홈 베이스 아웃\n",
    " - T    태그 아웃\n",
    " - G    땅볼\n",
    " - F    플라이\n",
    " - P    파울플라이\n",
    " - E    실책\n",
    " - L    라인드라이브\n",
    " - M    디플렉트(타구가 야수의 몸 또는 장비에 맞아 타구 방향이 본래의 진로에서 벗어나거나 속도가 변하는 것)"
   ]
  },
  {
   "cell_type": "code",
   "execution_count": 20,
   "metadata": {},
   "outputs": [],
   "source": [
    "import re"
   ]
  },
  {
   "cell_type": "code",
   "execution_count": 21,
   "metadata": {},
   "outputs": [],
   "source": [
    "outcome = []\n",
    "temp = []"
   ]
  },
  {
   "cell_type": "code",
   "execution_count": 22,
   "metadata": {},
   "outputs": [],
   "source": [
    "gamecontapp_copy.replace('??', '', inplace=True)\n",
    "gamecontapp_copy.replace('IN', '', inplace=True)"
   ]
  },
  {
   "cell_type": "code",
   "execution_count": 23,
   "metadata": {},
   "outputs": [],
   "source": [
    "for i in range(len(gamecontapp_copy)):\n",
    "    if gamecontapp_copy.FIELD[i] == '' or gamecontapp_copy.FIELD[i] == ' ' or gamecontapp_copy.FIELD[i] == None:\n",
    "        outcome.append(gamecontapp_copy.HOW[i])\n",
    "    elif gamecontapp_copy.HOW[i] == 'OUT' or gamecontapp_copy.HOW[i] == 'H1' or gamecontapp_copy.HOW[i] == 'H2' or gamecontapp_copy.HOW[i] == 'H3' or gamecontapp_copy.HOW[i] == 'HR':\n",
    "        regex = re.compile(r'\\d')\n",
    "        matchobj = regex.search(gamecontapp_copy.FIELD[i])\n",
    "        temp = gamecontapp_copy.HOW[i] + '_' + matchobj.group()\n",
    "        outcome.append(temp)\n",
    "    else:\n",
    "        outcome.append(gamecontapp_copy.HOW[i])"
   ]
  },
  {
   "cell_type": "code",
   "execution_count": 24,
   "metadata": {},
   "outputs": [],
   "source": [
    "gamecontapp_copy['outcome'] = outcome"
   ]
  },
  {
   "cell_type": "markdown",
   "metadata": {},
   "source": [
    "# insert in train df"
   ]
  },
  {
   "cell_type": "code",
   "execution_count": 25,
   "metadata": {},
   "outputs": [
    {
     "data": {
      "text/plain": [
       "(1025441, 488, 528, 43)"
      ]
     },
     "execution_count": 25,
     "metadata": {},
     "output_type": "execute_result"
    }
   ],
   "source": [
    "len(gamecontapp_copy), len(gamecontapp_copy.HITTER.unique()), len(gamecontapp_copy.PITCHER.unique()), len(gamecontapp_copy.outcome.unique())"
   ]
  },
  {
   "cell_type": "code",
   "execution_count": 26,
   "metadata": {},
   "outputs": [],
   "source": [
    "train['batter'] = gamecontapp_copy.HITTER.values\n",
    "\n",
    "hitidx = []\n",
    "hitcode = []\n",
    "hit_dict = {}\n",
    "for idx, val in enumerate(train.batter.unique()):\n",
    "    hitidx.append(idx)\n",
    "    hitcode.append(val)\n",
    "\n",
    "for i in range(len(hitcode)):\n",
    "    hit_dict[i] = hitcode[i]\n",
    "\n",
    "new_hit_dict = {}\n",
    "for k,v in hit_dict.items():\n",
    "#     print(k, v)\n",
    "    new_hit_dict[v] = k\n",
    "\n",
    "train.batter.replace(new_hit_dict, inplace=True)"
   ]
  },
  {
   "cell_type": "code",
   "execution_count": 27,
   "metadata": {},
   "outputs": [],
   "source": [
    "train['pitcher'] = gamecontapp_copy.PITCHER.values\n",
    "\n",
    "pitidx = []\n",
    "pitcode = []\n",
    "pit_dict = {}\n",
    "for idx, val in enumerate(train.pitcher.unique()):\n",
    "    pitidx.append(idx)\n",
    "    pitcode.append(val)\n",
    "\n",
    "for i in range(len(pitcode)):\n",
    "    pit_dict[i] = pitcode[i]\n",
    "\n",
    "new_pit_dict = {}\n",
    "for k,v in pit_dict.items():\n",
    "#     print(k, v)\n",
    "    new_pit_dict[v] = k\n",
    "\n",
    "train.pitcher.replace(new_pit_dict, inplace=True)"
   ]
  },
  {
   "cell_type": "code",
   "execution_count": 28,
   "metadata": {},
   "outputs": [],
   "source": [
    "train['outcome'] = outcome"
   ]
  },
  {
   "cell_type": "code",
   "execution_count": 29,
   "metadata": {},
   "outputs": [
    {
     "data": {
      "text/plain": [
       "43"
      ]
     },
     "execution_count": 29,
     "metadata": {},
     "output_type": "execute_result"
    }
   ],
   "source": [
    "# at_bat outcome categories\n",
    "len(train.outcome.unique())"
   ]
  },
  {
   "cell_type": "code",
   "execution_count": null,
   "metadata": {},
   "outputs": [],
   "source": []
  }
 ],
 "metadata": {
  "kernelspec": {
   "display_name": "Pytorch",
   "language": "python",
   "name": "pytorch"
  },
  "language_info": {
   "codemirror_mode": {
    "name": "ipython",
    "version": 3
   },
   "file_extension": ".py",
   "mimetype": "text/x-python",
   "name": "python",
   "nbconvert_exporter": "python",
   "pygments_lexer": "ipython3",
   "version": "3.6.7"
  }
 },
 "nbformat": 4,
 "nbformat_minor": 2
}
