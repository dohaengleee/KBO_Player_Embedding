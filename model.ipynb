{
 "cells": [
  {
   "cell_type": "code",
   "execution_count": 1,
   "metadata": {},
   "outputs": [],
   "source": [
    "import pickle as pkl\n",
    "import pandas as pd\n",
    "import torch\n",
    "import torch.nn as nn\n",
    "from torch.autograd import Variable\n",
    "import torch.optim as optim\n",
    "import torch.nn.functional as F\n",
    "import warnings\n",
    "warnings.filterwarnings('ignore')"
   ]
  },
  {
   "cell_type": "markdown",
   "metadata": {},
   "source": [
    "# Model"
   ]
  },
  {
   "cell_type": "code",
   "execution_count": 2,
   "metadata": {},
   "outputs": [],
   "source": [
    "with open('./pkl/train.pkl', 'rb') as f:\n",
    "    train = pkl.load(f)"
   ]
  },
  {
   "cell_type": "code",
   "execution_count": 3,
   "metadata": {},
   "outputs": [
    {
     "data": {
      "text/plain": [
       "array([  0,   1,   2, ..., 449, 377, 485])"
      ]
     },
     "execution_count": 3,
     "metadata": {},
     "output_type": "execute_result"
    }
   ],
   "source": [
    "train.batter.values"
   ]
  },
  {
   "cell_type": "code",
   "execution_count": 4,
   "metadata": {},
   "outputs": [],
   "source": [
    "batter_x = torch.LongTensor((train.batter.values)).view(-1, 1).cuda()\n",
    "pitcher_x = torch.LongTensor(train.pitcher.values).view(-1, 1).cuda()\n",
    "y = torch.LongTensor(pd.get_dummies(train.outcome).values).cuda()"
   ]
  },
  {
   "cell_type": "code",
   "execution_count": 5,
   "metadata": {},
   "outputs": [
    {
     "data": {
      "text/plain": [
       "(torch.Size([1025441, 1]), torch.Size([1025441, 1]), torch.Size([1025441, 43]))"
      ]
     },
     "execution_count": 5,
     "metadata": {},
     "output_type": "execute_result"
    }
   ],
   "source": [
    "batter_x.shape, pitcher_x.shape, y.shape"
   ]
  },
  {
   "cell_type": "code",
   "execution_count": 6,
   "metadata": {},
   "outputs": [],
   "source": [
    "NUM_BATTERS = len(train.batter.unique())\n",
    "NUM_PITCHERS = len(train.pitcher.unique())\n",
    "NUM_OUTCOMES = len(train.outcome.unique())\n",
    "VEC_SIZE = 9\n",
    "\n",
    "class Model(nn.Module):\n",
    "    \n",
    "    def __init__(self):\n",
    "        super(Model, self).__init__()\n",
    "        \n",
    "        self.hitter_layer = nn.Sequential(\n",
    "            nn.Embedding(NUM_BATTERS, VEC_SIZE),\n",
    "        )\n",
    "        \n",
    "        self.pitcher_layer = nn.Sequential(\n",
    "            nn.Embedding(NUM_PITCHERS, VEC_SIZE),\n",
    "        )\n",
    "        \n",
    "        self.fc_layer = nn.Sequential(\n",
    "            nn.Linear(VEC_SIZE * 2, NUM_OUTCOMES),\n",
    "        )\n",
    "        \n",
    "    def forward(self, batter, pitcher):\n",
    "        x1 = self.hitter_layer(batter)\n",
    "        x1 = F.sigmoid(x1)\n",
    "        x1 = x1.view(-1, VEC_SIZE)\n",
    "        x2 = self.pitcher_layer(pitcher)\n",
    "        x2 = F.sigmoid(x2)\n",
    "        x2 = x2.view(-1, VEC_SIZE)\n",
    "        x = torch.cat((x1, x2), dim=1)\n",
    "        x = self.fc_layer(x)\n",
    "        return x"
   ]
  },
  {
   "cell_type": "code",
   "execution_count": 7,
   "metadata": {},
   "outputs": [],
   "source": [
    "model = Model().cuda()"
   ]
  },
  {
   "cell_type": "code",
   "execution_count": 8,
   "metadata": {},
   "outputs": [],
   "source": [
    "loss = nn.CrossEntropyLoss()\n",
    "optimizer = optim.Adam(model.parameters(), lr=0.01, weight_decay=1e-6)"
   ]
  },
  {
   "cell_type": "code",
   "execution_count": 9,
   "metadata": {},
   "outputs": [],
   "source": [
    "NUM_EPOCHS = 1024"
   ]
  },
  {
   "cell_type": "code",
   "execution_count": 10,
   "metadata": {},
   "outputs": [],
   "source": [
    "cost_ls = []\n",
    "acc_ls = []"
   ]
  },
  {
   "cell_type": "code",
   "execution_count": 11,
   "metadata": {
    "scrolled": true
   },
   "outputs": [
    {
     "name": "stdout",
     "output_type": "stream",
     "text": [
      "Epoch [100/1024], Loss: 2.7681, ACC: 15.70\n",
      "Epoch [200/1024], Loss: 2.7360, ACC: 16.24\n",
      "Epoch [300/1024], Loss: 2.7216, ACC: 16.61\n",
      "Epoch [400/1024], Loss: 2.7156, ACC: 16.71\n",
      "Epoch [500/1024], Loss: 2.7123, ACC: 16.75\n",
      "Epoch [600/1024], Loss: 2.7108, ACC: 16.77\n",
      "Epoch [700/1024], Loss: 2.7100, ACC: 16.77\n",
      "Epoch [800/1024], Loss: 2.7094, ACC: 16.77\n",
      "Epoch [900/1024], Loss: 2.7090, ACC: 16.77\n",
      "Epoch [1000/1024], Loss: 2.7087, ACC: 16.77\n"
     ]
    }
   ],
   "source": [
    "for epoch in range(NUM_EPOCHS):\n",
    "    pred = model(batter_x, pitcher_x)\n",
    "    topk, idx = y.topk(1)\n",
    "    predicted_classes = pred.max(1)[1]\n",
    "    correct_count = (predicted_classes == idx.view(-1)).sum().item()\n",
    "    acc_ls.append(correct_count / len(y) * 100)\n",
    "    cost = loss(pred, idx.view(-1))\n",
    "    cost_ls.append(cost.item())\n",
    "\n",
    "    optimizer.zero_grad()\n",
    "    cost.backward()\n",
    "    optimizer.step()\n",
    "    \n",
    "    if (epoch+1) % 100 == 0:\n",
    "        print('Epoch [%d/%d], Loss: %.4f, ACC: %.2f' \n",
    "             %(epoch+1, NUM_EPOCHS, cost.item(), correct_count / len(y) * 100))"
   ]
  },
  {
   "cell_type": "code",
   "execution_count": 12,
   "metadata": {},
   "outputs": [],
   "source": [
    "# with open('./model/weight.pkl', 'wb')as f:\n",
    "#     pkl.dump(model.state_dict(), f)"
   ]
  },
  {
   "cell_type": "code",
   "execution_count": null,
   "metadata": {},
   "outputs": [],
   "source": []
  }
 ],
 "metadata": {
  "kernelspec": {
   "display_name": "Pytorch",
   "language": "python",
   "name": "pytorch"
  },
  "language_info": {
   "codemirror_mode": {
    "name": "ipython",
    "version": 3
   },
   "file_extension": ".py",
   "mimetype": "text/x-python",
   "name": "python",
   "nbconvert_exporter": "python",
   "pygments_lexer": "ipython3",
   "version": "3.6.7"
  }
 },
 "nbformat": 4,
 "nbformat_minor": 2
}
